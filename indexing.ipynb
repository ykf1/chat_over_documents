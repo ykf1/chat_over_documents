{
 "cells": [
  {
   "cell_type": "markdown",
   "id": "67da4d2d",
   "metadata": {},
   "source": [
    "#### In this notebook, documents are indexed in a vectorstore offline to be used in the application for retrieval. The LangChain indexing API is used to assist with the management of the indexing of documents. Documentation link: https://python.langchain.com/docs/modules/data_connection/indexing"
   ]
  },
  {
   "cell_type": "code",
   "execution_count": 1,
   "id": "cc4f11ce",
   "metadata": {},
   "outputs": [
    {
     "data": {
      "text/plain": [
       "True"
      ]
     },
     "execution_count": 1,
     "metadata": {},
     "output_type": "execute_result"
    }
   ],
   "source": [
    "import pickle\n",
    "\n",
    "from dotenv import load_dotenv\n",
    "\n",
    "from langchain.indexes import SQLRecordManager, index\n",
    "from langchain.retrievers import BM25Retriever\n",
    "from langchain.schema import Document\n",
    "from langchain.text_splitter import RecursiveCharacterTextSplitter\n",
    "from langchain_community.document_loaders import PyPDFLoader\n",
    "from langchain_community.vectorstores import Chroma\n",
    "from langchain_openai import OpenAIEmbeddings\n",
    "\n",
    "load_dotenv()"
   ]
  },
  {
   "cell_type": "code",
   "execution_count": 2,
   "id": "6f41cb04",
   "metadata": {},
   "outputs": [],
   "source": [
    "persist_directory = 'vectordb'\n",
    "embedding = OpenAIEmbeddings(model='text-embedding-ada-002')"
   ]
  },
  {
   "cell_type": "markdown",
   "id": "7c77255a",
   "metadata": {},
   "source": [
    "#### Initialise vectorstore and SQL record manager"
   ]
  },
  {
   "cell_type": "code",
   "execution_count": 3,
   "id": "58d78ded",
   "metadata": {},
   "outputs": [],
   "source": [
    "collection_name = \"test_index\"\n",
    "vectorstore = Chroma(\n",
    "    persist_directory=persist_directory, \n",
    "    embedding_function=embedding\n",
    ")\n",
    "vectorstore.persist()\n",
    "namespace = f\"chromadb/{collection_name}\"\n",
    "record_manager = SQLRecordManager(\n",
    "    namespace, db_url=\"sqlite:///record_manager_cache.sql\"\n",
    ")\n",
    "record_manager.create_schema()"
   ]
  },
  {
   "cell_type": "code",
   "execution_count": 4,
   "id": "b7914885",
   "metadata": {},
   "outputs": [],
   "source": [
    "def _clear():\n",
    "    \"\"\"Hacky helper method to clear content. See the `full` mode section to to understand why it works.\"\"\"\n",
    "    index([], record_manager, vectorstore, cleanup=\"full\", source_id_key=\"source\")\n",
    "    docs = vectorstore.get(include=[\"metadatas\", \"documents\"])\n",
    "    print(docs['metadatas'])\n",
    "    print(docs[\"documents\"])"
   ]
  },
  {
   "cell_type": "code",
   "execution_count": 5,
   "id": "a96faae0",
   "metadata": {},
   "outputs": [],
   "source": [
    "def do_indexing(documents: list[Document], cleanup: str = \"full\") -> dict:\n",
    "    \"\"\"cleanup should take in either None, incremental or full\"\"\"\n",
    "    print(index(\n",
    "        documents,\n",
    "        record_manager,\n",
    "        vectorstore,\n",
    "        cleanup=cleanup,\n",
    "        source_id_key=\"source\",\n",
    "    ))"
   ]
  },
  {
   "cell_type": "markdown",
   "id": "b76ec75f",
   "metadata": {},
   "source": [
    "#### Load source file and create documents"
   ]
  },
  {
   "cell_type": "code",
   "execution_count": 6,
   "id": "edb93347",
   "metadata": {},
   "outputs": [
    {
     "data": {
      "text/plain": [
       "21"
      ]
     },
     "execution_count": 6,
     "metadata": {},
     "output_type": "execute_result"
    }
   ],
   "source": [
    "loader = PyPDFLoader(r\"./files/FIFA_World_Cup.pdf\")\n",
    "pages = loader.load()\n",
    "len(pages)"
   ]
  },
  {
   "cell_type": "code",
   "execution_count": 7,
   "id": "f1d9114f",
   "metadata": {},
   "outputs": [
    {
     "data": {
      "text/plain": [
       "131"
      ]
     },
     "execution_count": 7,
     "metadata": {},
     "output_type": "execute_result"
    }
   ],
   "source": [
    "# Vary the chunk size and overlap as appropriate\n",
    "text_splitter = RecursiveCharacterTextSplitter(\n",
    "    chunk_size = 1000,\n",
    "    chunk_overlap  = 200,\n",
    "    length_function = len\n",
    ")\n",
    "# Chunk size refers to character count. 1000 characters is about 150 words or 200 tokens.\n",
    "documents = text_splitter.split_documents(pages)\n",
    "len(documents)"
   ]
  },
  {
   "cell_type": "markdown",
   "id": "9555e961",
   "metadata": {},
   "source": [
    "#### Initialise BM25 retriever and save to disk"
   ]
  },
  {
   "cell_type": "code",
   "execution_count": 8,
   "id": "6206aece",
   "metadata": {},
   "outputs": [],
   "source": [
    "bm25_retriever = BM25Retriever.from_documents(documents)\n",
    "with open('bm25_retriever', 'wb') as bm25result_file:\n",
    "    pickle.dump(bm25_retriever, bm25result_file)"
   ]
  },
  {
   "cell_type": "markdown",
   "id": "06a12522",
   "metadata": {},
   "source": [
    "#### Embed and store documents in vectorstore"
   ]
  },
  {
   "cell_type": "code",
   "execution_count": 9,
   "id": "3dfd4cba",
   "metadata": {},
   "outputs": [
    {
     "name": "stdout",
     "output_type": "stream",
     "text": [
      "[]\n",
      "[]\n"
     ]
    }
   ],
   "source": [
    "_clear()"
   ]
  },
  {
   "cell_type": "code",
   "execution_count": 10,
   "id": "dca6f73f",
   "metadata": {},
   "outputs": [
    {
     "name": "stdout",
     "output_type": "stream",
     "text": [
      "{'num_added': 131, 'num_updated': 0, 'num_skipped': 0, 'num_deleted': 0}\n"
     ]
    }
   ],
   "source": [
    "do_indexing(documents)"
   ]
  },
  {
   "cell_type": "code",
   "execution_count": null,
   "id": "182c1d34",
   "metadata": {},
   "outputs": [],
   "source": []
  }
 ],
 "metadata": {
  "kernelspec": {
   "display_name": "Python 3 (ipykernel)",
   "language": "python",
   "name": "python3"
  },
  "language_info": {
   "codemirror_mode": {
    "name": "ipython",
    "version": 3
   },
   "file_extension": ".py",
   "mimetype": "text/x-python",
   "name": "python",
   "nbconvert_exporter": "python",
   "pygments_lexer": "ipython3",
   "version": "3.11.5"
  }
 },
 "nbformat": 4,
 "nbformat_minor": 5
}
